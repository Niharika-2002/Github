{
  "cells": [
    {
      "cell_type": "markdown",
      "metadata": {
        "id": "view-in-github",
        "colab_type": "text"
      },
      "source": [
        "<a href=\"https://colab.research.google.com/github/Niharika-2002/Github/blob/main/niharikakakani_2002_Bayes_Labs_Assignments.ipynb\" target=\"_parent\"><img src=\"https://colab.research.google.com/assets/colab-badge.svg\" alt=\"Open In Colab\"/></a>"
      ]
    },
    {
      "metadata": {
        "id": "6tgxENnLvLH7"
      },
      "cell_type": "markdown",
      "source": [
        "# Assignment - Python Basics Practice\n",
        "\n",
        "\n",
        "\n",
        "\n"
      ]
    },
    {
      "metadata": {
        "id": "1VqMdyiivLH-"
      },
      "cell_type": "markdown",
      "source": [
        "## Variables and Data Types\n",
        "\n",
        "**Q: Assign your name to the variable `name`.**"
      ]
    },
    {
      "metadata": {
        "trusted": true,
        "id": "yVIYuDDMvLH-"
      },
      "cell_type": "code",
      "source": [
        "name = \"Niharika Kakani\""
      ],
      "execution_count": 1,
      "outputs": []
    },
    {
      "metadata": {
        "id": "QeK-QA7GvLH-"
      },
      "cell_type": "markdown",
      "source": [
        "**Q: Assign your age (real or fake) to the variable `age`.**"
      ]
    },
    {
      "metadata": {
        "trusted": true,
        "id": "axuBC-y6vLH_"
      },
      "cell_type": "code",
      "source": [
        "age = 22"
      ],
      "execution_count": 2,
      "outputs": []
    },
    {
      "metadata": {
        "id": "okMEWXHwvLH_"
      },
      "cell_type": "markdown",
      "source": [
        "**Q: Assign a boolean value to the variable `has_android_phone`.**"
      ]
    },
    {
      "cell_type": "code",
      "source": [
        "has_android_phone = True"
      ],
      "metadata": {
        "id": "8k3sBf5BmSjc"
      },
      "execution_count": 3,
      "outputs": []
    },
    {
      "metadata": {
        "id": "QfC_6aXfvLIA"
      },
      "cell_type": "markdown",
      "source": [
        "**Q: Create a dictionary `person` with keys `\"Name\"`, `\"Age\"`, `\"HasAndroidPhone\"` and values using the variables defined above.**"
      ]
    },
    {
      "metadata": {
        "trusted": true,
        "id": "VdNLm3L5vLIA"
      },
      "cell_type": "code",
      "source": [
        "person = {\"Name\":name,\n",
        "          \"Age\":age,\n",
        "          \"HasAndroidPhone\":has_android_phone}"
      ],
      "execution_count": 4,
      "outputs": []
    },
    {
      "metadata": {
        "id": "ytlWYVM7vLIA"
      },
      "cell_type": "markdown",
      "source": [
        "Let's use the `person` dictionary to print a nice message."
      ]
    },
    {
      "metadata": {
        "trusted": true,
        "id": "r5sq7VvevLIA",
        "colab": {
          "base_uri": "https://localhost:8080/"
        },
        "outputId": "576ff65e-07c6-41ff-e57b-3ffd2891e7e4"
      },
      "cell_type": "code",
      "source": [
        "print(\"{} is aged {}, and contains an {}.\".format(\n",
        "    person[\"Name\"],\n",
        "    person[\"Age\"],\n",
        "    \"Android phone\" if person[\"HasAndroidPhone\"] else \"iPhone\"\n",
        "))"
      ],
      "execution_count": 7,
      "outputs": [
        {
          "output_type": "stream",
          "name": "stdout",
          "text": [
            "Niharika Kakani is aged 22, and contains an Android phone.\n"
          ]
        }
      ]
    },
    {
      "metadata": {
        "id": "HyQ9W2bGvLIB"
      },
      "cell_type": "markdown",
      "source": [
        "Use a `for` loop to display the `type` of each value stored against each key in `person`.**\n",
        "\n",
        "Here's the expected output for the key `\"Name\"`:\n",
        "\n",
        "```\n",
        "The key \"Name\" has the value \"Derek\" of the type \"<class 'str'>\"\n",
        "```"
      ]
    },
    {
      "cell_type": "code",
      "source": [
        "for key, value in person.items():\n",
        "    print(f'The key \"{key}\" has the value \"{value}\" of the type \"{type(value)}\"')"
      ],
      "metadata": {
        "colab": {
          "base_uri": "https://localhost:8080/"
        },
        "id": "nfNq8Jh4o8yS",
        "outputId": "d13b6a75-9018-487c-a479-1dd7df10e24a"
      },
      "execution_count": 8,
      "outputs": [
        {
          "output_type": "stream",
          "name": "stdout",
          "text": [
            "The key \"Name\" has the value \"Niharika Kakani\" of the type \"<class 'str'>\"\n",
            "The key \"Age\" has the value \"22\" of the type \"<class 'int'>\"\n",
            "The key \"HasAndroidPhone\" has the value \"True\" of the type \"<class 'bool'>\"\n"
          ]
        }
      ]
    },
    {
      "metadata": {
        "id": "L5VT5-3yvLIB"
      },
      "cell_type": "markdown",
      "source": [
        "## Working with Lists\n",
        "\n",
        "**Q: Create a list containing the following 3 elements:**\n",
        "\n",
        "* your favorite color\n",
        "* the number of pets you have\n",
        "* a boolean value describing whether you have previous programming experience\n"
      ]
    },
    {
      "metadata": {
        "trusted": true,
        "id": "KKXeilefvLIB"
      },
      "cell_type": "code",
      "source": [
        "my_list = [\"white\" , 0 , False]"
      ],
      "execution_count": 14,
      "outputs": []
    },
    {
      "metadata": {
        "id": "qPMwq-6RvLIB"
      },
      "cell_type": "markdown",
      "source": [
        "Let's see what the list looks like:"
      ]
    },
    {
      "metadata": {
        "trusted": true,
        "id": "o8NZIpdVvLIB",
        "colab": {
          "base_uri": "https://localhost:8080/"
        },
        "outputId": "3c41e769-b5db-4c7d-db10-505a8959c1f0"
      },
      "cell_type": "code",
      "source": [
        "print('My favorite color is', my_list[0])\n",
        "print('I have {} pet(s).'.format(my_list[1]))\n",
        "\n",
        "if my_list[2]:\n",
        "    print(\"I have previous programming experience\")\n",
        "else:\n",
        "    print(\"I do not have previous programming experience\")"
      ],
      "execution_count": 15,
      "outputs": [
        {
          "output_type": "stream",
          "name": "stdout",
          "text": [
            "My favorite color is white\n",
            "I have 0 pet(s).\n",
            "I do not have previous programming experience\n"
          ]
        }
      ]
    },
    {
      "metadata": {
        "id": "5yhV9OtPvLIB"
      },
      "cell_type": "markdown",
      "source": [
        "**Q: Complete the following `print` and `if` statements by accessing the appropriate elements from `my_list`.**\n",
        "\n",
        "*Hint*: Use the list indexing notation `[]`."
      ]
    },
    {
      "metadata": {
        "trusted": true,
        "id": "xkkR9UObvLIB",
        "colab": {
          "base_uri": "https://localhost:8080/"
        },
        "outputId": "d50d2a9a-a343-4500-976f-cac546072d3a"
      },
      "cell_type": "code",
      "source": [
        "print('My favorite color is',my_list[0])"
      ],
      "execution_count": 16,
      "outputs": [
        {
          "output_type": "stream",
          "name": "stdout",
          "text": [
            "My favorite color is white\n"
          ]
        }
      ]
    },
    {
      "metadata": {
        "trusted": true,
        "id": "wS04XOMqvLIB",
        "colab": {
          "base_uri": "https://localhost:8080/"
        },
        "outputId": "869a9149-a045-49bf-91b7-575d62a876f4"
      },
      "cell_type": "code",
      "source": [
        "print('I have {} pet(s).',my_list[1])"
      ],
      "execution_count": 17,
      "outputs": [
        {
          "output_type": "stream",
          "name": "stdout",
          "text": [
            "I have {} pet(s). 0\n"
          ]
        }
      ]
    },
    {
      "metadata": {
        "trusted": true,
        "id": "oj9kdoAUvLIB",
        "colab": {
          "base_uri": "https://localhost:8080/"
        },
        "outputId": "e649bb1d-9f63-4d02-8b7d-3fa883080b63"
      },
      "cell_type": "code",
      "source": [
        "if my_list[2]:\n",
        "    print(\"I have previous programming experience\")\n",
        "else:\n",
        "    print(\"I do not have previous programming experience\")"
      ],
      "execution_count": 18,
      "outputs": [
        {
          "output_type": "stream",
          "name": "stdout",
          "text": [
            "I do not have previous programming experience\n"
          ]
        }
      ]
    },
    {
      "metadata": {
        "id": "IBhCrzSmvLIC"
      },
      "cell_type": "markdown",
      "source": [
        "**Q: Add your favorite single digit number to the end of the list using the appropriate list method.**"
      ]
    },
    {
      "metadata": {
        "trusted": true,
        "id": "mknB7HzavLIC"
      },
      "cell_type": "code",
      "source": [
        "my_list.append(9)"
      ],
      "execution_count": 21,
      "outputs": []
    },
    {
      "metadata": {
        "id": "8i7A_tYAvLIC"
      },
      "cell_type": "markdown",
      "source": [
        "Let's see if the number shows up in the list."
      ]
    },
    {
      "metadata": {
        "trusted": true,
        "id": "IOWnzL2vvLIC",
        "colab": {
          "base_uri": "https://localhost:8080/"
        },
        "outputId": "45bad822-b113-435f-d416-0697cd891248"
      },
      "cell_type": "code",
      "source": [
        "my_list"
      ],
      "execution_count": 22,
      "outputs": [
        {
          "output_type": "execute_result",
          "data": {
            "text/plain": [
              "['white', 0, False, 9]"
            ]
          },
          "metadata": {},
          "execution_count": 22
        }
      ]
    },
    {
      "metadata": {
        "id": "SWHbz8oNvLIC"
      },
      "cell_type": "markdown",
      "source": [
        "**Q: Remove the first element of the list, using the appropriate list method.**\n",
        "\n",
        "*Hint*: Check out methods of list here: https://www.w3schools.com/python/python_ref_list.asp"
      ]
    },
    {
      "metadata": {
        "trusted": true,
        "id": "ym4Y8jKgvLIC",
        "colab": {
          "base_uri": "https://localhost:8080/",
          "height": 35
        },
        "outputId": "17bf8954-4de8-418c-c37c-aaa4becf9c11"
      },
      "cell_type": "code",
      "source": [
        "my_list.pop(0)"
      ],
      "execution_count": 23,
      "outputs": [
        {
          "output_type": "execute_result",
          "data": {
            "text/plain": [
              "'white'"
            ],
            "application/vnd.google.colaboratory.intrinsic+json": {
              "type": "string"
            }
          },
          "metadata": {},
          "execution_count": 23
        }
      ]
    },
    {
      "metadata": {
        "trusted": true,
        "id": "jySrd216vLIC",
        "colab": {
          "base_uri": "https://localhost:8080/"
        },
        "outputId": "9a81ca1c-0ce0-45f8-b453-9889cefeaa3d"
      },
      "cell_type": "code",
      "source": [
        "my_list"
      ],
      "execution_count": 24,
      "outputs": [
        {
          "output_type": "execute_result",
          "data": {
            "text/plain": [
              "[0, False, 9]"
            ]
          },
          "metadata": {},
          "execution_count": 24
        }
      ]
    },
    {
      "metadata": {
        "id": "PoUaBIy6vLIC"
      },
      "cell_type": "markdown",
      "source": [
        "**Q: Complete the `print` statement below to display the number of elements in `my_list`.**"
      ]
    },
    {
      "metadata": {
        "trusted": true,
        "id": "dNKqXe-OvLIC",
        "colab": {
          "base_uri": "https://localhost:8080/"
        },
        "outputId": "d45be041-afe7-4912-efca-8f5b0bccdf46"
      },
      "cell_type": "code",
      "source": [
        "print(len(my_list))"
      ],
      "execution_count": 25,
      "outputs": [
        {
          "output_type": "stream",
          "name": "stdout",
          "text": [
            "3\n"
          ]
        }
      ]
    },
    {
      "metadata": {
        "id": "zxabeFFzvLIH"
      },
      "cell_type": "markdown",
      "source": [
        "## Conditions and loops\n",
        "\n",
        "**Q: Calculate and display the sum of all the numbers divisible by 7 between 18 and 534 i.e. `21+28+35+...+525+532`**.\n",
        "\n",
        "*Hint*: One way to do this is to loop over a `range` using `for` and use an `if` statement inside it."
      ]
    },
    {
      "metadata": {
        "trusted": true,
        "id": "xBYbCDgqvLIH"
      },
      "cell_type": "code",
      "source": [
        "sum_list = []\n",
        "for x in range(7,534):\n",
        "  if x%7 == 0:\n",
        "    sum_list.append(x)\n",
        "\n",
        "sum_of_numbers = sum(sum_list)"
      ],
      "execution_count": 26,
      "outputs": []
    },
    {
      "metadata": {
        "trusted": true,
        "id": "ia99bHJhvLIH",
        "colab": {
          "base_uri": "https://localhost:8080/"
        },
        "outputId": "1ad582a2-c6a5-45eb-ce5e-98d6dd154f04"
      },
      "cell_type": "code",
      "source": [
        "print('The sum of all the numbers divisible by 7 between 18 and 534 is', sum_of_numbers)"
      ],
      "execution_count": 27,
      "outputs": [
        {
          "output_type": "stream",
          "name": "stdout",
          "text": [
            "The sum of all the numbers divisible by 7 between 18 and 534 is 20482\n"
          ]
        }
      ]
    },
    {
      "cell_type": "markdown",
      "source": [
        "## Lists"
      ],
      "metadata": {
        "id": "4ViBWsq_CJR4"
      }
    },
    {
      "cell_type": "markdown",
      "source": [
        "Q1: Write a Python program that takes a list of integers as input and performs the following operations:\n",
        "\n",
        "Remove all duplicates from the list.\n",
        "\n",
        "Sort the list in descending order.\n",
        "\n",
        "Print the second largest number from the list."
      ],
      "metadata": {
        "id": "rGHhWCZKCLld"
      }
    },
    {
      "metadata": {
        "trusted": true,
        "id": "SZ82tPFVvLIL",
        "colab": {
          "base_uri": "https://localhost:8080/"
        },
        "outputId": "8c43c48a-06d6-4f4f-9b63-b99cf617fb45"
      },
      "cell_type": "code",
      "source": [
        "nums = [1,2,3,4,1,3,5,2,6,3,8,5]\n",
        "def removeDuplicates(nums):\n",
        "  nums = sorted(set(nums), reverse = True)\n",
        "  return nums[1]\n",
        "\n",
        "print(removeDuplicates(nums))\n"
      ],
      "execution_count": 28,
      "outputs": [
        {
          "output_type": "stream",
          "name": "stdout",
          "text": [
            "6\n"
          ]
        }
      ]
    },
    {
      "cell_type": "markdown",
      "source": [
        "## Dictionary"
      ],
      "metadata": {
        "id": "XQEcpkFdCavt"
      }
    },
    {
      "cell_type": "markdown",
      "source": [
        "Q2: Create a dictionary from two lists, one containing student names and the other containing their scores. Then, write a program to:\n",
        "\n",
        "Print the dictionary.\n",
        "\n",
        "Find the student with the highest score.\n",
        "\n",
        "Add a new student with a given score to the dictionary."
      ],
      "metadata": {
        "id": "sHTYSJczCTGB"
      }
    },
    {
      "cell_type": "code",
      "source": [
        "names = [\"John\", \"Charlie\", \"Tom\"]\n",
        "scores = [65,76,89]\n",
        "\n",
        "my_dict = dict(zip(names,scores))\n",
        "print(my_dict)\n",
        "print(\"The student with the highest score is:\", max(my_dict))\n",
        "my_dict[\"Niharika\"] = 86\n",
        "print(my_dict)"
      ],
      "metadata": {
        "id": "1j5QxWp-CaPV",
        "colab": {
          "base_uri": "https://localhost:8080/"
        },
        "outputId": "380c85ca-1694-42b0-e868-0b2ed67f0555"
      },
      "execution_count": 29,
      "outputs": [
        {
          "output_type": "stream",
          "name": "stdout",
          "text": [
            "{'John': 65, 'Charlie': 76, 'Tom': 89}\n",
            "The student with the highest score is: Tom\n",
            "{'John': 65, 'Charlie': 76, 'Tom': 89, 'Niharika': 86}\n"
          ]
        }
      ]
    },
    {
      "cell_type": "markdown",
      "source": [
        "#Tuple"
      ],
      "metadata": {
        "id": "2hyaanCNCiIi"
      }
    },
    {
      "cell_type": "markdown",
      "source": [
        "3: Write a Python program to create a tuple from a list of integers. Then:\n",
        "\n",
        "Find the minimum, maximum, and sum of the elements in the tuple.\n",
        "\n",
        "Convert the tuple into a string and print it."
      ],
      "metadata": {
        "id": "JXCvRY60CdIC"
      }
    },
    {
      "cell_type": "code",
      "source": [
        "int_list = [3,4,7,2,8,5,6,1]\n",
        "my_tuple = tuple(int_list)\n",
        "print(min(my_tuple))\n",
        "print(max(my_tuple))\n",
        "print(sum(my_tuple))\n",
        "print(str(my_tuple))"
      ],
      "metadata": {
        "id": "DuJ7X4WECjob",
        "colab": {
          "base_uri": "https://localhost:8080/"
        },
        "outputId": "8db05607-e5bc-4c14-c661-7cc9c55133af"
      },
      "execution_count": 31,
      "outputs": [
        {
          "output_type": "stream",
          "name": "stdout",
          "text": [
            "1\n",
            "8\n",
            "36\n",
            "(3, 4, 7, 2, 8, 5, 6, 1)\n"
          ]
        }
      ]
    },
    {
      "cell_type": "markdown",
      "source": [
        "##Numpy"
      ],
      "metadata": {
        "id": "1kYvyW6XCzeq"
      }
    },
    {
      "cell_type": "markdown",
      "source": [
        "\n",
        "Q4: Using the NumPy library:\n",
        "\n",
        "Create a 3x3 matrix filled with random integers between 1 and 20.\n",
        "\n",
        "Replace all values greater than 10 with 0.\n",
        "\n",
        "Find the mean of the modified matrix."
      ],
      "metadata": {
        "id": "OPqNJ7fyCkAA"
      }
    },
    {
      "cell_type": "code",
      "source": [
        "import numpy as np\n",
        "matrix = np.random.randint(1, 21, (3, 3))\n",
        "matrix[matrix > 10] = 0\n",
        "print(\"Mean of modified matrix:\", np.mean(matrix))"
      ],
      "metadata": {
        "id": "nYOz4En9CxGp",
        "colab": {
          "base_uri": "https://localhost:8080/"
        },
        "outputId": "afa18a85-883f-4e1f-bde1-216043775eb0"
      },
      "execution_count": 32,
      "outputs": [
        {
          "output_type": "stream",
          "name": "stdout",
          "text": [
            "Mean of modified matrix: 2.5555555555555554\n"
          ]
        }
      ]
    },
    {
      "cell_type": "markdown",
      "source": [
        "## Pandas"
      ],
      "metadata": {
        "id": "8Z0UcbZXC1U0"
      }
    },
    {
      "cell_type": "markdown",
      "source": [
        "Q5: Using the Pandas library:\n",
        "\n",
        "Create a DataFrame from a dictionary where the keys are column names, and the values are lists representing data for each column.\n",
        "\n",
        "Add a new column to the DataFrame by calculating the difference between two existing columns.\n",
        "\n",
        "Drop any rows where the value in a specific column is less than 50."
      ],
      "metadata": {
        "id": "abiz20V4C1RS"
      }
    },
    {
      "cell_type": "code",
      "source": [
        "import pandas as pd\n",
        "data = {\"X\": [11, 12, 13], \"Y\": [9, 23, 34]}\n",
        "df = pd.DataFrame(data)\n",
        "df[\"Difference\"] = df[\"X\"] - df[\"Y\"]\n",
        "df = df[df[\"X\"] >= 50]\n",
        "print(df)"
      ],
      "metadata": {
        "id": "ah5WJvzDC7iK",
        "colab": {
          "base_uri": "https://localhost:8080/"
        },
        "outputId": "8145f9b6-8263-4bfa-a006-b105a79a76c9"
      },
      "execution_count": 33,
      "outputs": [
        {
          "output_type": "stream",
          "name": "stdout",
          "text": [
            "Empty DataFrame\n",
            "Columns: [X, Y, Difference]\n",
            "Index: []\n"
          ]
        }
      ]
    },
    {
      "cell_type": "markdown",
      "source": [
        "##Exception Handling"
      ],
      "metadata": {
        "id": "VF5MTuC7C_94"
      }
    },
    {
      "cell_type": "markdown",
      "source": [
        "\n",
        "Q6: Write a Python program to perform division of two user-input numbers. Implement exception handling to:\n",
        "\n",
        "Catch the division by zero error.\n",
        "\n",
        "Catch invalid input type errors (e.g., if the user enters a string instead of a number).\n",
        "\n",
        "Ensure the program runs successfully even if an error occurs. (Hint: Add finally)"
      ],
      "metadata": {
        "id": "vLTDuZGuC_3d"
      }
    },
    {
      "cell_type": "code",
      "source": [
        "def safe_divide():\n",
        "    try:\n",
        "        a = float(input(\"Enter numerator: \"))\n",
        "        b = float(input(\"Enter denominator: \"))\n",
        "        print(\"Result:\", a / b)\n",
        "    except ZeroDivisionError:\n",
        "        print(\"Error: Cannot divide by zero.\")\n",
        "    except ValueError:\n",
        "        print(\"Error: Invalid input. Please enter numbers only.\")\n",
        "    finally:\n",
        "        print(\"Execution completed.\")\n",
        "\n",
        "safe_divide()"
      ],
      "metadata": {
        "id": "ktyOho_2DHyP",
        "colab": {
          "base_uri": "https://localhost:8080/"
        },
        "outputId": "b3e96e85-6f2c-469c-fa9f-d36cc0e82635"
      },
      "execution_count": 34,
      "outputs": [
        {
          "output_type": "stream",
          "name": "stdout",
          "text": [
            "Enter numerator: 20\n",
            "Enter denominator: 10\n",
            "Result: 2.0\n",
            "Execution completed.\n"
          ]
        }
      ]
    },
    {
      "cell_type": "markdown",
      "source": [
        "## Matplotlib"
      ],
      "metadata": {
        "id": "rNyZu1w9DeTz"
      }
    },
    {
      "cell_type": "markdown",
      "source": [
        "\n",
        "Q7: Create a line chart using the Matplotlib library to display the population growth over years. The program should:\n",
        "\n",
        "Create dummy data: containing years and population values.\n",
        "\n",
        "Plot the line chart with proper labels for the x-axis, y-axis, and a title."
      ],
      "metadata": {
        "id": "Udg5GavODMuT"
      }
    },
    {
      "cell_type": "code",
      "source": [
        "import matplotlib.pyplot as plt\n",
        "years = [1990, 1995, 2000, 2005, 2010, 2015]\n",
        "population = [1.3, 1.5, 2.4, 3.2, 4.3, 5.5]\n",
        "plt.plot(years, population, marker='o')\n",
        "plt.xlabel(\"Years\")\n",
        "plt.ylabel(\"Population (Millions)\")\n",
        "plt.title(\"Population Growth\")\n",
        "plt.show()"
      ],
      "metadata": {
        "id": "k6nTd1wRDdUg",
        "colab": {
          "base_uri": "https://localhost:8080/",
          "height": 472
        },
        "outputId": "a508bc74-5f32-4294-d50c-7d3f9c24f738"
      },
      "execution_count": 37,
      "outputs": [
        {
          "output_type": "display_data",
          "data": {
            "text/plain": [
              "<Figure size 640x480 with 1 Axes>"
            ],
            "image/png": "[encoded data removed]"
          },
          "metadata": {}
        }
      ]
    },
    {
      "cell_type": "markdown",
      "source": [
        "## Seaborn"
      ],
      "metadata": {
        "id": "_W9lJpzZDxNF"
      }
    },
    {
      "cell_type": "markdown",
      "source": [
        "\n",
        "Q8: Using the Seaborn library, plot a distribution of the sepal_length column from the Iris dataset. The program should:\n",
        "\n",
        "Load the 'iris' dataset from Seaborn's sample datasets.\n",
        "Plot a KDE (Kernel Density Estimation) plot for the sepal_length column.\n",
        "Customize the plot with a title and set the color of the plot to blue.\n"
      ],
      "metadata": {
        "id": "hM12mAgqDyId"
      }
    },
    {
      "cell_type": "code",
      "source": [
        "import seaborn as sns\n",
        "iris = sns.load_dataset(\"iris\")\n",
        "sns.kdeplot(iris[\"sepal_length\"], color=\"pink\").set(title=\"Sepal Length Distribution\")\n",
        "plt.show()\n"
      ],
      "metadata": {
        "id": "3CYknAGGDzpK",
        "colab": {
          "base_uri": "https://localhost:8080/",
          "height": 472
        },
        "outputId": "66ac63ee-4485-4330-b8dc-faa0bdd11d25"
      },
      "execution_count": 39,
      "outputs": [
        {
          "output_type": "display_data",
          "data": {
            "text/plain": [
              "<Figure size 640x480 with 1 Axes>"
            ],
            "image/png": "[encoded data removed]"
          },
          "metadata": {}
        }
      ]
    },
    {
      "cell_type": "markdown",
      "source": [
        "## Pandas DataFrame"
      ],
      "metadata": {
        "id": "fFTydMAXD-cD"
      }
    },
    {
      "cell_type": "markdown",
      "source": [
        "\n",
        "Q9: Write a Python program to perform the following operations on the Iris dataset:\n",
        "\n",
        "Load the dataset into a Pandas DataFrame.\n",
        "\n",
        "Display the first 10 rows of the DataFrame.\n",
        "\n",
        "Group the data by the species column and calculate the mean of each numeric column for each species.\n",
        "\n",
        "Add a new column sepal_area that is the product of sepal_length and sepal_width.\n",
        "\n",
        "Filter the DataFrame to show only rows where sepal_area is greater than 20."
      ],
      "metadata": {
        "id": "nZSrcAuuD-Yt"
      }
    },
    {
      "cell_type": "code",
      "source": [
        "iris_df = sns.load_dataset(\"iris\")\n",
        "print(iris_df.head(10))\n",
        "print(iris_df.groupby(\"species\").mean())\n",
        "iris_df[\"sepal_area\"] = iris_df[\"sepal_length\"] * iris_df[\"sepal_width\"]\n",
        "filtered_df = iris_df[iris_df[\"sepal_area\"] > 20]\n",
        "print(filtered_df)"
      ],
      "metadata": {
        "id": "vWpR1ZA1EE5v",
        "colab": {
          "base_uri": "https://localhost:8080/"
        },
        "outputId": "62b0b05a-1fb1-4ef4-f259-3b817c960b88"
      },
      "execution_count": 40,
      "outputs": [
        {
          "output_type": "stream",
          "name": "stdout",
          "text": [
            "   sepal_length  sepal_width  petal_length  petal_width species\n",
            "0           5.1          3.5           1.4          0.2  setosa\n",
            "1           4.9          3.0           1.4          0.2  setosa\n",
            "2           4.7          3.2           1.3          0.2  setosa\n",
            "3           4.6          3.1           1.5          0.2  setosa\n",
            "4           5.0          3.6           1.4          0.2  setosa\n",
            "5           5.4          3.9           1.7          0.4  setosa\n",
            "6           4.6          3.4           1.4          0.3  setosa\n",
            "7           5.0          3.4           1.5          0.2  setosa\n",
            "8           4.4          2.9           1.4          0.2  setosa\n",
            "9           4.9          3.1           1.5          0.1  setosa\n",
            "            sepal_length  sepal_width  petal_length  petal_width\n",
            "species                                                         \n",
            "setosa             5.006        3.428         1.462        0.246\n",
            "versicolor         5.936        2.770         4.260        1.326\n",
            "virginica          6.588        2.974         5.552        2.026\n",
            "     sepal_length  sepal_width  petal_length  petal_width     species  \\\n",
            "5             5.4          3.9           1.7          0.4      setosa   \n",
            "14            5.8          4.0           1.2          0.2      setosa   \n",
            "15            5.7          4.4           1.5          0.4      setosa   \n",
            "16            5.4          3.9           1.3          0.4      setosa   \n",
            "18            5.7          3.8           1.7          0.3      setosa   \n",
            "32            5.2          4.1           1.5          0.1      setosa   \n",
            "33            5.5          4.2           1.4          0.2      setosa   \n",
            "50            7.0          3.2           4.7          1.4  versicolor   \n",
            "51            6.4          3.2           4.5          1.5  versicolor   \n",
            "52            6.9          3.1           4.9          1.5  versicolor   \n",
            "56            6.3          3.3           4.7          1.6  versicolor   \n",
            "65            6.7          3.1           4.4          1.4  versicolor   \n",
            "77            6.7          3.0           5.0          1.7  versicolor   \n",
            "85            6.0          3.4           4.5          1.6  versicolor   \n",
            "86            6.7          3.1           4.7          1.5  versicolor   \n",
            "100           6.3          3.3           6.0          2.5   virginica   \n",
            "102           7.1          3.0           5.9          2.1   virginica   \n",
            "105           7.6          3.0           6.6          2.1   virginica   \n",
            "107           7.3          2.9           6.3          1.8   virginica   \n",
            "109           7.2          3.6           6.1          2.5   virginica   \n",
            "110           6.5          3.2           5.1          2.0   virginica   \n",
            "112           6.8          3.0           5.5          2.1   virginica   \n",
            "115           6.4          3.2           5.3          2.3   virginica   \n",
            "117           7.7          3.8           6.7          2.2   virginica   \n",
            "118           7.7          2.6           6.9          2.3   virginica   \n",
            "120           6.9          3.2           5.7          2.3   virginica   \n",
            "122           7.7          2.8           6.7          2.0   virginica   \n",
            "124           6.7          3.3           5.7          2.1   virginica   \n",
            "125           7.2          3.2           6.0          1.8   virginica   \n",
            "129           7.2          3.0           5.8          1.6   virginica   \n",
            "130           7.4          2.8           6.1          1.9   virginica   \n",
            "131           7.9          3.8           6.4          2.0   virginica   \n",
            "135           7.7          3.0           6.1          2.3   virginica   \n",
            "136           6.3          3.4           5.6          2.4   virginica   \n",
            "139           6.9          3.1           5.4          2.1   virginica   \n",
            "140           6.7          3.1           5.6          2.4   virginica   \n",
            "141           6.9          3.1           5.1          2.3   virginica   \n",
            "143           6.8          3.2           5.9          2.3   virginica   \n",
            "144           6.7          3.3           5.7          2.5   virginica   \n",
            "145           6.7          3.0           5.2          2.3   virginica   \n",
            "148           6.2          3.4           5.4          2.3   virginica   \n",
            "\n",
            "     sepal_area  \n",
            "5         21.06  \n",
            "14        23.20  \n",
            "15        25.08  \n",
            "16        21.06  \n",
            "18        21.66  \n",
            "32        21.32  \n",
            "33        23.10  \n",
            "50        22.40  \n",
            "51        20.48  \n",
            "52        21.39  \n",
            "56        20.79  \n",
            "65        20.77  \n",
            "77        20.10  \n",
            "85        20.40  \n",
            "86        20.77  \n",
            "100       20.79  \n",
            "102       21.30  \n",
            "105       22.80  \n",
            "107       21.17  \n",
            "109       25.92  \n",
            "110       20.80  \n",
            "112       20.40  \n",
            "115       20.48  \n",
            "117       29.26  \n",
            "118       20.02  \n",
            "120       22.08  \n",
            "122       21.56  \n",
            "124       22.11  \n",
            "125       23.04  \n",
            "129       21.60  \n",
            "130       20.72  \n",
            "131       30.02  \n",
            "135       23.10  \n",
            "136       21.42  \n",
            "139       21.39  \n",
            "140       20.77  \n",
            "141       21.39  \n",
            "143       21.76  \n",
            "144       22.11  \n",
            "145       20.10  \n",
            "148       21.08  \n"
          ]
        }
      ]
    },
    {
      "cell_type": "markdown",
      "source": [
        "## Functions"
      ],
      "metadata": {
        "id": "boirWrgRElAS"
      }
    },
    {
      "cell_type": "markdown",
      "source": [
        "Q10: Write a Python program that defines a function to calculate the Body Mass Index (BMI) based on a person's weight and height. The program should:\n",
        "\n",
        "Define a function calculate_bmi(weight, height) that takes the weight (in kilograms) and height (in meters) as arguments and returns the BMI.\n",
        "\n",
        "BMI = weight/(height**2)\n",
        "\n",
        "Use the function to calculate the BMI for a given weight and height input by the user.\n",
        "\n",
        "Define another function bmi_category(bmi) that takes the BMI as input and returns the BMI category:\n",
        "\n",
        "\"Underweight\" if BMI < 18.5\n",
        "\n",
        "\"Normal weight\" if 18.5 <= BMI < 24.9\n",
        "\n",
        "\"Overweight\" if 25 <= BMI < 29.9\n",
        "\n",
        "\"Obese\" if BMI >= 30\n",
        "\n",
        "(Hint; use if elif else multiple conditions)\n",
        "\n",
        "Print the calculated BMI and the corresponding category."
      ],
      "metadata": {
        "id": "Ve2MS7VKEk9C"
      }
    },
    {
      "cell_type": "code",
      "source": [
        "def calculate_bmi(weight, height):\n",
        "    \"\"\"Calculate the Body Mass Index (BMI).\"\"\"\n",
        "    return weight / (height ** 2)\n",
        "\n",
        "def bmi_category(bmi):\n",
        "    \"\"\"Determine the BMI category based on the BMI value.\"\"\"\n",
        "    if bmi < 18.5:\n",
        "        return \"Underweight\"\n",
        "    elif 18.5 <= bmi < 24.9:\n",
        "        return \"Normal weight\"\n",
        "    elif 25 <= bmi < 29.9:\n",
        "        return \"Overweight\"\n",
        "    else:\n",
        "        return \"Obese\"\n",
        "\n",
        "weight = float(input(\"Enter weight (kg): \"))\n",
        "height = float(input(\"Enter height (m): \"))\n",
        "\n",
        "bmi = calculate_bmi(weight, height)\n",
        "\n",
        "print(f\"Your BMI is: {bmi:.2f}\")\n",
        "print(f\"Category: {bmi_category(bmi)}\")"
      ],
      "metadata": {
        "colab": {
          "base_uri": "https://localhost:8080/"
        },
        "id": "XbttPsmwvqrz",
        "outputId": "d8a91c35-f4a7-40bc-a17b-0d08f818edf4"
      },
      "execution_count": 41,
      "outputs": [
        {
          "output_type": "stream",
          "name": "stdout",
          "text": [
            "Enter weight (kg): 48\n",
            "Enter height (m): 5.6\n",
            "Your BMI is: 1.53\n",
            "Category: Underweight\n"
          ]
        }
      ]
    },
    {
      "cell_type": "markdown",
      "source": [
        "## OOPS"
      ],
      "metadata": {
        "id": "H9q9BWZ6Li8D"
      }
    },
    {
      "cell_type": "markdown",
      "source": [
        "Problem #1: Complete the code below to calcualte volume and surface area of a cylinder"
      ],
      "metadata": {
        "id": "lGs0H00rL3RD"
      }
    },
    {
      "cell_type": "code",
      "source": [
        "class Cylinder:\n",
        "    def __init__(self, height=1, radius=1):\n",
        "        self.height = height\n",
        "        self.radius = radius\n",
        "\n",
        "    def volume(self):\n",
        "        return np.pi * self.radius ** 2 * self.height\n",
        "\n",
        "    def surface_area(self):\n",
        "        return 2 * np.pi * self.radius * (self.radius + self.height)\n",
        "\n",
        "c = Cylinder(2, 3)\n",
        "print(\"Cylinder Volume:\", c.volume())\n",
        "print(\"Cylinder Surface Area:\", c.surface_area())"
      ],
      "metadata": {
        "id": "vk_rMP-8E31G",
        "colab": {
          "base_uri": "https://localhost:8080/"
        },
        "outputId": "00d47df2-0d19-4565-85bb-a15dc6bb1ab6"
      },
      "execution_count": 42,
      "outputs": [
        {
          "output_type": "stream",
          "name": "stdout",
          "text": [
            "Cylinder Volume: 56.548667764616276\n",
            "Cylinder Surface Area: 94.24777960769379\n"
          ]
        }
      ]
    },
    {
      "cell_type": "code",
      "source": [
        "# EXAMPLE OUTPUT\n",
        "c = Cylinder(2,3)"
      ],
      "metadata": {
        "id": "rUZwaNMmMCF5"
      },
      "execution_count": null,
      "outputs": []
    },
    {
      "cell_type": "code",
      "source": [
        "c.volume()"
      ],
      "metadata": {
        "id": "wQSeJ9wQMENx",
        "colab": {
          "base_uri": "https://localhost:8080/"
        },
        "outputId": "39a2ad48-b792-4908-bc41-813d7abf1843"
      },
      "execution_count": 43,
      "outputs": [
        {
          "output_type": "execute_result",
          "data": {
            "text/plain": [
              "56.548667764616276"
            ]
          },
          "metadata": {},
          "execution_count": 43
        }
      ]
    },
    {
      "cell_type": "code",
      "source": [
        "c.surface_area()"
      ],
      "metadata": {
        "id": "94_3vbW3MGJN",
        "colab": {
          "base_uri": "https://localhost:8080/"
        },
        "outputId": "ce563762-f34a-4aeb-ceaa-a15addbc7bcb"
      },
      "execution_count": 44,
      "outputs": [
        {
          "output_type": "execute_result",
          "data": {
            "text/plain": [
              "94.24777960769379"
            ]
          },
          "metadata": {},
          "execution_count": 44
        }
      ]
    },
    {
      "cell_type": "markdown",
      "source": [
        "Problem #2:\n",
        "\n",
        "- Create a bank account class that has two attributes:\n",
        "\n",
        "   - owner\n",
        "   - balance\n",
        "   \n",
        "- and two methods:\n",
        "\n",
        "   - deposit\n",
        "   - withdraw\n",
        "\n",
        "Instantiate your class, make several deposits and withdrawals, and test to make sure the account can't be overdrawn."
      ],
      "metadata": {
        "id": "VjUSspmUXvf8"
      }
    },
    {
      "cell_type": "code",
      "source": [
        "class BankAccount:\n",
        "    def __init__(self, owner, balance=0):\n",
        "        \"\"\"Initialize the account with an owner and an optional starting balance.\"\"\"\n",
        "        self.owner = owner\n",
        "        self.balance = balance\n",
        "\n",
        "    def deposit(self, amount):\n",
        "        \"\"\"Deposit money into the account.\"\"\"\n",
        "        if amount > 0:\n",
        "            self.balance += amount\n",
        "            print(f\"Deposited: {amount}. New Balance: {self.balance}\")\n",
        "        else:\n",
        "            print(\"Deposit amount must be positive.\")\n",
        "\n",
        "    def withdraw(self, amount):\n",
        "        \"\"\"Withdraw money, ensuring the account isn't overdrawn.\"\"\"\n",
        "        if amount > self.balance:\n",
        "            print(\"Insufficient funds! Withdrawal denied.\")\n",
        "        elif amount <= 0:\n",
        "            print(\"Withdrawal amount must be positive.\")\n",
        "        else:\n",
        "            self.balance -= amount\n",
        "            print(f\"Withdrawn: {amount}. New Balance: {self.balance}\")\n",
        "\n",
        "account = BankAccount(\"Alice\", 200)\n",
        "\n",
        "account.deposit(100)\n",
        "account.deposit(300)\n",
        "\n",
        "account.withdraw(50)\n",
        "account.withdraw(650)\n",
        "account.withdraw(70)\n",
        "\n",
        "print(f\"Final Balance for {account.owner}: {account.balance}\")"
      ],
      "metadata": {
        "colab": {
          "base_uri": "https://localhost:8080/"
        },
        "id": "VDmlndqFwWic",
        "outputId": "0e79b8bc-0fd8-47ef-892e-d693b9b198a4"
      },
      "execution_count": 47,
      "outputs": [
        {
          "output_type": "stream",
          "name": "stdout",
          "text": [
            "Deposited: 100. New Balance: 300\n",
            "Deposited: 300. New Balance: 600\n",
            "Withdrawn: 50. New Balance: 550\n",
            "Insufficient funds! Withdrawal denied.\n",
            "Withdrawn: 70. New Balance: 480\n",
            "Final Balance for Alice: 480\n"
          ]
        }
      ]
    },
    {
      "cell_type": "markdown",
      "source": [
        "## Decorators"
      ],
      "metadata": {
        "id": "VKDEFWpOYc5l"
      }
    },
    {
      "cell_type": "markdown",
      "source": [
        "1. Write a Python program to create a decorator function to measure the execution time of a function.\n",
        "\n"
      ],
      "metadata": {
        "id": "SCtuWz6WZpDr"
      }
    },
    {
      "cell_type": "code",
      "source": [
        "import time\n",
        "\n",
        "def timer_decorator(func):\n",
        "    def wrapper(*args, **kwargs):\n",
        "        start_time = time.time()\n",
        "        result = func(*args, **kwargs)\n",
        "        end_time = time.time()\n",
        "        print(f\"Execution time: {end_time - start_time:.3f} seconds\")\n",
        "        return result\n",
        "    return wrapper\n",
        "\n",
        "@timer_decorator\n",
        "def example_function():\n",
        "    time.sleep(1)\n",
        "    print(\"Function executed.\")\n",
        "\n",
        "example_function()"
      ],
      "metadata": {
        "id": "PbDSUEznYFG7",
        "colab": {
          "base_uri": "https://localhost:8080/"
        },
        "outputId": "90f32fc6-6c84-4300-f00e-98283da6cf7a"
      },
      "execution_count": 49,
      "outputs": [
        {
          "output_type": "stream",
          "name": "stdout",
          "text": [
            "Function executed.\n",
            "Execution time: 1.001 seconds\n"
          ]
        }
      ]
    }
  ],
  "metadata": {
    "kernelspec": {
      "language": "python",
      "display_name": "Python 3",
      "name": "python3"
    },
    "language_info": {
      "pygments_lexer": "ipython3",
      "nbconvert_exporter": "python",
      "version": "3.6.4",
      "file_extension": ".py",
      "codemirror_mode": {
        "name": "ipython",
        "version": 3
      },
      "name": "python",
      "mimetype": "text/x-python"
    },
    "colab": {
      "provenance": [],
      "toc_visible": true,
      "include_colab_link": true
    }
  },
  "nbformat": 4,
  "nbformat_minor": 0
}